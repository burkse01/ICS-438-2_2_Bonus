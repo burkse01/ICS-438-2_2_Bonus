{
 "cells": [
  {
   "cell_type": "markdown",
   "id": "58078a2b",
   "metadata": {},
   "source": [
    "# Imports:"
   ]
  },
  {
   "cell_type": "code",
   "execution_count": 1,
   "id": "14901dd2",
   "metadata": {},
   "outputs": [],
   "source": [
    "import pyarrow as pa \n",
    "import pyarrow.parquet as pq\n",
    "import pyarrow.compute as pc\n",
    "import pyarrow.dataset as ds\n",
    "from datetime import datetime"
   ]
  },
  {
   "cell_type": "markdown",
   "id": "16eda345",
   "metadata": {},
   "source": [
    "# Get Data:"
   ]
  },
  {
   "cell_type": "code",
   "execution_count": 2,
   "id": "4121bd66",
   "metadata": {},
   "outputs": [],
   "source": [
    "dataset = pq.ParquetDataset('s3://ursa-labs-taxi-data/2009/', partitioning=[\"month\"])"
   ]
  },
  {
   "cell_type": "code",
   "execution_count": 3,
   "id": "8bb94c8e",
   "metadata": {},
   "outputs": [],
   "source": [
    "data_table = dataset.fragments[0].to_table()"
   ]
  },
  {
   "cell_type": "markdown",
   "id": "f0798d93",
   "metadata": {},
   "source": [
    "# Questions:"
   ]
  },
  {
   "cell_type": "markdown",
   "id": "69fc90f0",
   "metadata": {},
   "source": [
    "### Can you get the average transaction between 2:00-2:59 PM"
   ]
  },
  {
   "cell_type": "markdown",
   "id": "ac929324",
   "metadata": {},
   "source": [
    "First we filter so that only transactions that started and ended at 2pm are available"
   ]
  },
  {
   "cell_type": "code",
   "execution_count": 4,
   "id": "9ad3ee08",
   "metadata": {},
   "outputs": [],
   "source": [
    "pickup_hour = pc.hour(data_table['pickup_at'])\n",
    "dropoff_hour = pc.hour(data_table['dropoff_at'])\n",
    "\n",
    "pickup_time_filter = pc.equal(pickup_hour, 14)\n",
    "dropoff_time_filter = pc.equal(dropoff_hour, 14)\n",
    "combined_filter = pc.and_(pickup_time_filter, dropoff_time_filter)\n",
    "\n",
    "filtered_pc = pc.filter(data_table, combined_filter)"
   ]
  },
  {
   "cell_type": "markdown",
   "id": "6204d466",
   "metadata": {},
   "source": [
    "Next we sum the transactions, then calculate the mean"
   ]
  },
  {
   "cell_type": "code",
   "execution_count": 5,
   "id": "e0c284ff",
   "metadata": {},
   "outputs": [
    {
     "data": {
      "text/plain": [
       "<pyarrow.DoubleScalar: 8.723216966053515>"
      ]
     },
     "execution_count": 5,
     "metadata": {},
     "output_type": "execute_result"
    }
   ],
   "source": [
    "added_transactions = pc.add(filtered_pc['fare_amount'],filtered_pc['tip_amount'])\n",
    "pc.mean(added_transactions)"
   ]
  },
  {
   "cell_type": "markdown",
   "id": "b6a06888",
   "metadata": {},
   "source": [
    "This gives us a average transaction cost of 8.72"
   ]
  },
  {
   "cell_type": "markdown",
   "id": "2b8afb09",
   "metadata": {},
   "source": [
    "### Which day, on average has the highest tip? "
   ]
  },
  {
   "cell_type": "markdown",
   "id": "72a32043",
   "metadata": {},
   "source": [
    "First we convert date times to days of the week"
   ]
  },
  {
   "cell_type": "code",
   "execution_count": 6,
   "id": "4ecb4f70",
   "metadata": {},
   "outputs": [
    {
     "data": {
      "text/plain": [
       "<pyarrow.lib.ChunkedArray object at 0x110010e00>\n",
       "[\n",
       "  [\n",
       "    6,\n",
       "    6,\n",
       "    5,\n",
       "    3,\n",
       "    5,\n",
       "    ...\n",
       "    1,\n",
       "    1,\n",
       "    4,\n",
       "    5,\n",
       "    4\n",
       "  ]\n",
       "]"
      ]
     },
     "execution_count": 6,
     "metadata": {},
     "output_type": "execute_result"
    }
   ],
   "source": [
    "DOW_values = pc.day_of_week(data_table['pickup_at'])\n",
    "DOW_values"
   ]
  },
  {
   "cell_type": "markdown",
   "id": "435d6876",
   "metadata": {},
   "source": [
    "* Then, we compare the values of each mean to find the highest one"
   ]
  },
  {
   "cell_type": "code",
   "execution_count": 7,
   "id": "18e440d0",
   "metadata": {},
   "outputs": [
    {
     "data": {
      "text/plain": [
       "6"
      ]
     },
     "execution_count": 7,
     "metadata": {},
     "output_type": "execute_result"
    }
   ],
   "source": [
    "highest_mean = 0\n",
    "highest_day = 0\n",
    "for i in range(7):\n",
    "    day_filter = pc.equal(DOW_values, i)\n",
    "    filtered_by_day = pc.filter(data_table,day_filter)\n",
    "    current_mean = pc.mean(filtered_by_day['fare_amount'])\n",
    "    if (pc.greater(current_mean,highest_mean)).as_py():\n",
    "        highest_mean = current_mean\n",
    "        highest_day = i\n",
    "highest_day"
   ]
  },
  {
   "cell_type": "code",
   "execution_count": 8,
   "id": "36c32946",
   "metadata": {},
   "outputs": [
    {
     "data": {
      "text/plain": [
       "<pyarrow.DoubleScalar: 9.792338970530873>"
      ]
     },
     "execution_count": 8,
     "metadata": {},
     "output_type": "execute_result"
    }
   ],
   "source": [
    "highest_mean"
   ]
  },
  {
   "cell_type": "markdown",
   "id": "65accd38",
   "metadata": {},
   "source": [
    "Therefore, we know that the day with the highest average cost is sunday (day 6) with an average cost of 9.79"
   ]
  },
  {
   "cell_type": "markdown",
   "id": "e84d127e",
   "metadata": {},
   "source": [
    "### Which time (hour) of the day has the highest tip?"
   ]
  },
  {
   "cell_type": "markdown",
   "id": "3fad55be",
   "metadata": {},
   "source": [
    "First we filter the data by the hour it was started in"
   ]
  },
  {
   "cell_type": "code",
   "execution_count": 9,
   "id": "962a3c02",
   "metadata": {},
   "outputs": [],
   "source": [
    "by_hour = pc.hour(data_table['pickup_at'])"
   ]
  },
  {
   "cell_type": "markdown",
   "id": "be3ce448",
   "metadata": {},
   "source": [
    "Then we find the hour with the highest average transaction cost"
   ]
  },
  {
   "cell_type": "code",
   "execution_count": 10,
   "id": "66ae01aa",
   "metadata": {},
   "outputs": [
    {
     "data": {
      "text/plain": [
       "5"
      ]
     },
     "execution_count": 10,
     "metadata": {},
     "output_type": "execute_result"
    }
   ],
   "source": [
    "highest_mean = 0\n",
    "highest_hour = 0\n",
    "for i in range(24):\n",
    "    hour_filter = pc.equal(by_hour, i)\n",
    "    filtered_by_hour = pc.filter(data_table,hour_filter)\n",
    "    current_mean = pc.mean(filtered_by_hour['tip_amount'])\n",
    "    if (pc.greater(current_mean,highest_mean)).as_py():\n",
    "        highest_mean = current_mean\n",
    "        highest_hour = i\n",
    "highest_hour"
   ]
  },
  {
   "cell_type": "code",
   "execution_count": 11,
   "id": "a6006ba0",
   "metadata": {},
   "outputs": [
    {
     "data": {
      "text/plain": [
       "<pyarrow.DoubleScalar: 0.625723054615612>"
      ]
     },
     "execution_count": 11,
     "metadata": {},
     "output_type": "execute_result"
    }
   ],
   "source": [
    "highest_mean"
   ]
  },
  {
   "cell_type": "markdown",
   "id": "e89a1a4a",
   "metadata": {},
   "source": [
    "Here we see that the hour with the highest average tip is 4 am (hour 5) with a tip value of 0.63"
   ]
  },
  {
   "cell_type": "code",
   "execution_count": null,
   "id": "22ff5dcd",
   "metadata": {},
   "outputs": [],
   "source": []
  }
 ],
 "metadata": {
  "kernelspec": {
   "display_name": "Python 3 (ipykernel)",
   "language": "python",
   "name": "python3"
  },
  "language_info": {
   "codemirror_mode": {
    "name": "ipython",
    "version": 3
   },
   "file_extension": ".py",
   "mimetype": "text/x-python",
   "name": "python",
   "nbconvert_exporter": "python",
   "pygments_lexer": "ipython3",
   "version": "3.11.4"
  }
 },
 "nbformat": 4,
 "nbformat_minor": 5
}
